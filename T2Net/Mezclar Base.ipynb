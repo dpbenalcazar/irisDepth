{
 "cells": [
  {
   "cell_type": "code",
   "execution_count": 1,
   "metadata": {},
   "outputs": [],
   "source": [
    "import os\n",
    "import os.path\n",
    "import random"
   ]
  },
  {
   "cell_type": "code",
   "execution_count": 2,
   "metadata": {},
   "outputs": [],
   "source": [
    "IMG_EXTENSIONS = [\n",
    "    '.jpg', '.JPG', '.jpeg', '.JPEG',\n",
    "    '.png', '.PNG', '.ppm', '.PPM', '.bmp', '.BMP',\n",
    "]\n",
    "\n",
    "\n",
    "def is_image_file(filename):\n",
    "    return any(filename.endswith(extension) for extension in IMG_EXTENSIONS)"
   ]
  },
  {
   "cell_type": "code",
   "execution_count": 3,
   "metadata": {},
   "outputs": [],
   "source": [
    "def make_dataset_dir(dir):\n",
    "    image_paths = []\n",
    "\n",
    "    assert os.path.isdir(dir), '%s is not a valid directory' % dir\n",
    "\n",
    "    for root, _, fnames in os.walk(dir):\n",
    "        for fname in sorted(fnames):\n",
    "            if is_image_file(fname):\n",
    "                path = os.path.join(root, fname)\n",
    "                image_paths.append(path)\n",
    "    if False:\n",
    "        image_paths = image_paths[:5]\n",
    "        \n",
    "    return image_paths, len(image_paths)"
   ]
  },
  {
   "cell_type": "code",
   "execution_count": 4,
   "metadata": {},
   "outputs": [],
   "source": [
    "trRen_dir = '/home/danielb/Iris-Sintetico/Dataset-Depth/TrainRen'\n",
    "trPar_dir = '/home/danielb/Iris-Sintetico/Dataset-Depth/TrainPar'\n",
    "trDep_dir = '/home/danielb/Iris-Sintetico/Dataset-Depth/TrainDep'\n",
    "trReal_dir= '/home/danielb/Iris-Sintetico/Dataset-Depth/TrainReal'"
   ]
  },
  {
   "cell_type": "code",
   "execution_count": 5,
   "metadata": {},
   "outputs": [],
   "source": [
    "trPar_pth, nr_trPar = make_dataset_dir(trPar_dir)\n",
    "trDep_pth, nr_trDep = make_dataset_dir(trDep_dir)\n",
    "trRen_pth, nr_trRen = make_dataset_dir(trRen_dir)\n",
    "trReal_pth, nr_trReal = make_dataset_dir(trReal_dir)"
   ]
  },
  {
   "cell_type": "code",
   "execution_count": 6,
   "metadata": {},
   "outputs": [],
   "source": [
    "train = [ [trPar_pth[i] , trDep_pth[i], trRen_pth[i]] for i in range(nr_trPar) ]"
   ]
  },
  {
   "cell_type": "code",
   "execution_count": 7,
   "metadata": {},
   "outputs": [],
   "source": [
    "random.shuffle(train)\n",
    "random.shuffle(trReal_pth)"
   ]
  },
  {
   "cell_type": "code",
   "execution_count": 8,
   "metadata": {},
   "outputs": [],
   "source": [
    "trPar_pth = [train[i][0] for i in range(nr_trPar) ]\n",
    "trDep_pth = [train[i][1] for i in range(nr_trPar) ]\n",
    "trRen_pth = [train[i][2] for i in range(nr_trPar) ]"
   ]
  },
  {
   "cell_type": "code",
   "execution_count": 9,
   "metadata": {},
   "outputs": [],
   "source": [
    "with open('data/trainRend.txt', 'w') as f:\n",
    "    for item in trRen_pth:\n",
    "        f.write(item + \"\\n\")"
   ]
  },
  {
   "cell_type": "code",
   "execution_count": 10,
   "metadata": {},
   "outputs": [],
   "source": [
    "with open('data/trainParp.txt', 'w') as f:\n",
    "    for item in trPar_pth:\n",
    "        f.write(item + \"\\n\")"
   ]
  },
  {
   "cell_type": "code",
   "execution_count": 11,
   "metadata": {},
   "outputs": [],
   "source": [
    "with open('data/trainDept.txt', 'w') as f:\n",
    "    for item in trDep_pth:\n",
    "        f.write(item + \"\\n\")"
   ]
  },
  {
   "cell_type": "code",
   "execution_count": 12,
   "metadata": {},
   "outputs": [],
   "source": [
    "with open('data/trainReal.txt', 'w') as f:\n",
    "    for item in trReal_pth:\n",
    "        f.write(item + \"\\n\")"
   ]
  }
 ],
 "metadata": {
  "kernelspec": {
   "display_name": "Python 3",
   "language": "python",
   "name": "python3"
  },
  "language_info": {
   "codemirror_mode": {
    "name": "ipython",
    "version": 3
   },
   "file_extension": ".py",
   "mimetype": "text/x-python",
   "name": "python",
   "nbconvert_exporter": "python",
   "pygments_lexer": "ipython3",
   "version": "3.6.8"
  }
 },
 "nbformat": 4,
 "nbformat_minor": 2
}
