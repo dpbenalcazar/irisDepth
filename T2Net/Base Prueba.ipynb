{
 "cells": [
  {
   "cell_type": "code",
   "execution_count": 1,
   "metadata": {},
   "outputs": [],
   "source": [
    "import os\n",
    "import os.path\n",
    "import random"
   ]
  },
  {
   "cell_type": "code",
   "execution_count": 2,
   "metadata": {},
   "outputs": [],
   "source": [
    "IMG_EXTENSIONS = [\n",
    "    '.jpg', '.JPG', '.jpeg', '.JPEG',\n",
    "    '.png', '.PNG', '.ppm', '.PPM', '.bmp', '.BMP',\n",
    "]\n",
    "\n",
    "\n",
    "def is_image_file(filename):\n",
    "    return any(filename.endswith(extension) for extension in IMG_EXTENSIONS)"
   ]
  },
  {
   "cell_type": "code",
   "execution_count": 3,
   "metadata": {},
   "outputs": [],
   "source": [
    "def make_dataset_dir(dir):\n",
    "    image_paths = []\n",
    "\n",
    "    assert os.path.isdir(dir), '%s is not a valid directory' % dir\n",
    "\n",
    "    for root, _, fnames in os.walk(dir):\n",
    "        for fname in sorted(fnames):\n",
    "            if is_image_file(fname):\n",
    "                path = os.path.join(root, fname)\n",
    "                image_paths.append(path)\n",
    "    if False:\n",
    "        image_paths = image_paths[:5]\n",
    "        \n",
    "    return image_paths, len(image_paths)"
   ]
  },
  {
   "cell_type": "code",
   "execution_count": 4,
   "metadata": {},
   "outputs": [],
   "source": [
    "teRen_dir = '/home/danielb/Iris-Sintetico/Dataset-Depth/TestRen'\n",
    "tePar_dir = '/home/danielb/Iris-Sintetico/Dataset-Depth/TestPar'\n",
    "teDep_dir = '/home/danielb/Iris-Sintetico/Dataset-Depth/TestDep'\n",
    "teReal_dir= '/home/danielb/Iris-Sintetico/Dataset-Depth/TestReal'"
   ]
  },
  {
   "cell_type": "code",
   "execution_count": 5,
   "metadata": {},
   "outputs": [],
   "source": [
    "tePar_pth, nr_trPar = make_dataset_dir(tePar_dir)\n",
    "teDep_pth, nr_trDep = make_dataset_dir(teDep_dir)\n",
    "teRen_pth, nr_trRen = make_dataset_dir(teRen_dir)\n",
    "teReal_pth, nr_trReal = make_dataset_dir(teReal_dir)"
   ]
  },
  {
   "cell_type": "code",
   "execution_count": 6,
   "metadata": {},
   "outputs": [],
   "source": [
    "with open('data/testRend.txt', 'w') as f:\n",
    "    for item in teRen_pth:\n",
    "        f.write(item + \"\\n\")"
   ]
  },
  {
   "cell_type": "code",
   "execution_count": 7,
   "metadata": {},
   "outputs": [],
   "source": [
    "with open('data/testParp.txt', 'w') as f:\n",
    "    for item in tePar_pth:\n",
    "        f.write(item + \"\\n\")"
   ]
  },
  {
   "cell_type": "code",
   "execution_count": 8,
   "metadata": {},
   "outputs": [],
   "source": [
    "with open('data/testDept.txt', 'w') as f:\n",
    "    for item in teDep_pth:\n",
    "        f.write(item + \"\\n\")"
   ]
  },
  {
   "cell_type": "code",
   "execution_count": 9,
   "metadata": {},
   "outputs": [],
   "source": [
    "with open('data/testReal.txt', 'w') as f:\n",
    "    for item in teReal_pth:\n",
    "        f.write(item + \"\\n\")"
   ]
  },
  {
   "cell_type": "code",
   "execution_count": null,
   "metadata": {},
   "outputs": [],
   "source": []
  }
 ],
 "metadata": {
  "kernelspec": {
   "display_name": "Python 3",
   "language": "python",
   "name": "python3"
  },
  "language_info": {
   "codemirror_mode": {
    "name": "ipython",
    "version": 3
   },
   "file_extension": ".py",
   "mimetype": "text/x-python",
   "name": "python",
   "nbconvert_exporter": "python",
   "pygments_lexer": "ipython3",
   "version": "3.6.8"
  }
 },
 "nbformat": 4,
 "nbformat_minor": 2
}
